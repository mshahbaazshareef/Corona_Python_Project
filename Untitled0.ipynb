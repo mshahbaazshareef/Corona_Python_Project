{
  "nbformat": 4,
  "nbformat_minor": 0,
  "metadata": {
    "colab": {
      "name": "Untitled0.ipynb",
      "provenance": [],
      "collapsed_sections": []
    },
    "kernelspec": {
      "name": "python3",
      "display_name": "Python 3"
    }
  },
  "cells": [
    {
      "cell_type": "code",
      "metadata": {
        "id": "oM6v1_YVqGcY",
        "colab_type": "code",
        "colab": {}
      },
      "source": [
        "import pandas as pd\n",
        "import numpy as np\n",
        "from google.colab import files\n",
        "cn_global =  \"https://raw.githubusercontent.com/CSSEGISandData/COVID-19/master/csse_covid_19_data/csse_covid_19_time_series/time_series_covid19_confirmed_global.csv\"\n",
        "cn_global_deaths= \"https://raw.githubusercontent.com/CSSEGISandData/COVID-19/master/csse_covid_19_data/csse_covid_19_time_series/time_series_covid19_deaths_global.csv\"\n",
        "global_confirmed = pd.read_csv(cn_global)\n",
        "global_deaths= pd.read_csv(cn_global_deaths)\n",
        "\n"
      ],
      "execution_count": 0,
      "outputs": []
    },
    {
      "cell_type": "markdown",
      "metadata": {
        "id": "6dC111Xnt6Ux",
        "colab_type": "text"
      },
      "source": [
        "Reshaping and using melt to comibine data \n"
      ]
    },
    {
      "cell_type": "code",
      "metadata": {
        "id": "6uc6cp8GuAh2",
        "colab_type": "code",
        "colab": {}
      },
      "source": [
        "global_confirmed.shape\n",
        "global_confirmed.head()\n",
        "global_confirmed.columns\n"
      ],
      "execution_count": 0,
      "outputs": []
    },
    {
      "cell_type": "code",
      "metadata": {
        "colab_type": "code",
        "id": "xRG82bDmR0Iu",
        "colab": {}
      },
      "source": [
        "\n",
        "global_confirmed.melt(id_vars = [ 'Province/State', 'Country/Region', 'Lat', 'Long'],value_name='confirmed')\n",
        "global_deaths.melt(id_vars = [ 'Province/State', 'Country/Region', 'Lat', 'Long'],var_name = 'Dates', value_name='Deaths')"
      ],
      "execution_count": 0,
      "outputs": []
    },
    {
      "cell_type": "markdown",
      "metadata": {
        "id": "bLxwbZ-rS4na",
        "colab_type": "text"
      },
      "source": [
        "Function to fetch data and melt"
      ]
    },
    {
      "cell_type": "code",
      "metadata": {
        "id": "DbHXZnugS4O7",
        "colab_type": "code",
        "colab": {}
      },
      "source": [
        "def fetchnshape(repo_data ,valuename):\n",
        "  final_df = pd.read_csv(repo_data)\n",
        "  melted_final_df=final_df.melt(id_vars = [ 'Province/State', 'Country/Region', 'Lat', 'Long'],value_name= valuename)\n",
        "  return melted_final_df"
      ],
      "execution_count": 0,
      "outputs": []
    },
    {
      "cell_type": "code",
      "metadata": {
        "id": "n-10dn02U817",
        "colab_type": "code",
        "colab": {}
      },
      "source": [
        "new_f = fetchnshape(cn_global ,'Confirmed')\n",
        "new_f"
      ],
      "execution_count": 0,
      "outputs": []
    },
    {
      "cell_type": "code",
      "metadata": {
        "id": "gumwtx1_qM9A",
        "colab_type": "code",
        "colab": {}
      },
      "source": [
        "new_d = fetchnshape(cn_global_deaths ,'Deaths')\n",
        "new_d"
      ],
      "execution_count": 0,
      "outputs": []
    },
    {
      "cell_type": "markdown",
      "metadata": {
        "id": "hhwEOACrqyI7",
        "colab_type": "text"
      },
      "source": [
        "**Join confirmed and recoverd data for easy view and access**"
      ]
    },
    {
      "cell_type": "code",
      "metadata": {
        "id": "1BE-O7Nnuide",
        "colab_type": "code",
        "colab": {}
      },
      "source": [
        "Final_joined = new_f.join(new_d['Deaths'])"
      ],
      "execution_count": 0,
      "outputs": []
    },
    {
      "cell_type": "code",
      "metadata": {
        "id": "NX1ubw7mrKp3",
        "colab_type": "code",
        "colab": {}
      },
      "source": [
        "\n",
        "Final_joined.to_csv(\"corona_virus_updated.csv\")\n",
        "files.download('corona_virus_updated.csv') "
      ],
      "execution_count": 0,
      "outputs": []
    }
  ]
}